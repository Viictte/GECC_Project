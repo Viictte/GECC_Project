{
 "cells": [
  {
   "cell_type": "code",
   "execution_count": 2,
   "id": "21d4fcb3-cd85-469b-8c4d-db59ce77cb3c",
   "metadata": {},
   "outputs": [],
   "source": [
    "import pandas as pd"
   ]
  },
  {
   "cell_type": "code",
   "execution_count": null,
   "id": "4d0b6582-a5fa-4782-b266-6ea87de53f74",
   "metadata": {},
   "outputs": [],
   "source": [
    "# List of CSV files\n",
    "file_list = ['Goop_CityU-Talk.csv', 'Goop_CUHK-Talk.csv', 'Goop_Edu.csv', 'Goop_HKBU-Talk.csv', 'Goop_HKMU-Talk.csv', 'Goop_HKU-Talk.csv', 'Goop_HKUST-Talk.csv', 'Goop_LingU-Talk.csv', 'Goop_PolyU-Talk.csv']\n",
    "\n",
    "# Read and concatenate all CSV files\n",
    "df_list = [pd.read_csv(file) for file in file_list]\n",
    "df = pd.concat(df_list, ignore_index=True)\n",
    "\n",
    "# Display the first few rows of the dataframe\n",
    "df.head()"
   ]
  },
  {
   "cell_type": "code",
   "execution_count": null,
   "id": "101b622d-05c0-41fb-9fb0-cf8898901278",
   "metadata": {},
   "outputs": [],
   "source": [
    "# Define a function to clean the data\n",
    "def clean_data(row):\n",
    "    # Initialize the columns\n",
    "    title, comment1, comment2, comment3, likes, comments = None, None, None, None, None, None\n",
    "\n",
    "    # Assign the columns based on the presence of NaN values\n",
    "    if pd.isna(row['参数8_文本']):\n",
    "        title, comment1, comment2, comment3, likes, comments = row['参数1_文本'], row['参数3_文本'], row['参数5_文本'], row['参数7_文本'], row['参数10_文本'], row['参数11_文本']\n",
    "    else:\n",
    "        title, comment1, comment2, comment3, likes, comments = row['参数1_文本'], row['参数3_文本'], row['参数5_文本'], row['参数7_文本'], row['参数8_文本'], row['参数9_文本']\n",
    "\n",
    "    # Return the cleaned data\n",
    "    return pd.Series([title, comment1, comment2, comment3, likes, comments])\n",
    "\n",
    "# Apply the function to the dataframe\n",
    "df_clean = df.apply(clean_data, axis=1)\n",
    "\n",
    "# Rename the columns\n",
    "df_clean.columns = ['Title', 'Comment1', 'Comment2', 'Comment3', 'Likes', 'Comments']\n",
    "\n",
    "# Display the first few rows of the cleaned dataframe\n",
    "df_clean.head()"
   ]
  },
  {
   "cell_type": "code",
   "execution_count": null,
   "id": "77dac3d6-beee-4c5b-bf47-a409b7de107c",
   "metadata": {},
   "outputs": [],
   "source": [
    "df_clean.to_csv(\"df_clean.csv\",index=False)"
   ]
  },
  {
   "cell_type": "code",
   "execution_count": 4,
   "id": "66db6ddf-8145-43c2-9efb-28561dc30e52",
   "metadata": {},
   "outputs": [],
   "source": [
    "df = pd.read_csv('df_clean.csv',lineterminator='\\n')"
   ]
  }
 ],
 "metadata": {
  "kernelspec": {
   "display_name": "Python 3 (ipykernel)",
   "language": "python",
   "name": "python3"
  },
  "language_info": {
   "codemirror_mode": {
    "name": "ipython",
    "version": 3
   },
   "file_extension": ".py",
   "mimetype": "text/x-python",
   "name": "python",
   "nbconvert_exporter": "python",
   "pygments_lexer": "ipython3",
   "version": "3.9.15"
  }
 },
 "nbformat": 4,
 "nbformat_minor": 5
}
